{
 "cells": [
  {
   "cell_type": "code",
   "execution_count": null,
   "id": "8b6f2e01",
   "metadata": {},
   "outputs": [],
   "source": [
    "import pandas as pd"
   ]
  },
  {
   "cell_type": "code",
   "execution_count": 3,
   "id": "b7d276fa",
   "metadata": {},
   "outputs": [
    {
     "name": "stdout",
     "output_type": "stream",
     "text": [
      "Connection is established\n"
     ]
    }
   ],
   "source": [
    "import mysql.connector as msql\n",
    "from mysql.connector import Error\n",
    "try:\n",
    "    conn = msql.connect(host='localhost', user='root',  \n",
    "                        password='cbr250R0471@')#give ur username, password\n",
    "    if conn.is_connected():\n",
    "        cursor = conn.cursor()\n",
    "#         cursor.execute(\"CREATE DATABASE sales_an\")\n",
    "        print(\"Connection is established\")\n",
    "except Error as e:\n",
    "    print(\"Error while connecting to MySQL\", e)"
   ]
  },
  {
   "cell_type": "code",
   "execution_count": null,
   "id": "03d8895c",
   "metadata": {},
   "outputs": [],
   "source": [
    "import mysql.connector as c\n",
    "from mysql.connector import Error\n",
    "try:\n",
    "    conn = c.connect(host='localhost', database='sales_an', user='root',\n",
    "                         password='cbr250R0471@')\n",
    "    if conn.is_connected():\n",
    "        cursor = conn.cursor()\n",
    "        cursor.execute(\"select database();\")\n",
    "        record = cursor.fetchone()\n",
    "       \n",
    "        print(\"You're connected to database: \", record)\n",
    "        cursor.execute('DROP TABLE IF EXISTS customer_dim;')\n",
    "        print('Creating table....')\n",
    "   \n",
    "        sql=('CREATE TABLE customer_dim'\n",
    "             +'(\\n'\n",
    "             +'Cust_ID VARCHAR(4) NOT NULL,'\n",
    "             +'first_name VARCHAR(255) NOT NULL,'\n",
    "             +'last_name VARCHAR(255) NOT NULL,'\n",
    "             +'Cust_state VARCHAR(35) NOT NULL,'\n",
    "             +'Cust_address VARCHAR(255) NOT NULL,'\n",
    "             +'Cust_postcode INT NOT NULL,'\n",
    "             +'PRIMARY KEY (Cust_ID)'             \n",
    "             +')'\n",
    "             )\n",
    "        cursor.execute(sql)\n",
    "        print(\"Table is created....\")\n",
    "    \n",
    "        \n",
    "#         for i, row in df.iterrows():            \n",
    "#              cursor.execute(\"INSERT INTO sales.customer_dim(Cust_ID,Cust_state,Cust_address,Cust_postcode,first_name,last_name) VALUES (%s,%s,%s,%s,%s,%s)\", \n",
    "#                            [row['Cust_ID'],row['Cust_state'], row['Cust_address'], row['Cust_postcode'],row['first_name'],row['last_name']])\n",
    "#         print('rows executed')\n",
    "#         conn.commit()\n",
    "        \n",
    "except Error as e:\n",
    "            print(\"Error while connecting to MySQL\", e)"
   ]
  },
  {
   "cell_type": "code",
   "execution_count": null,
   "id": "790f4d0a",
   "metadata": {},
   "outputs": [],
   "source": [
    "import mysql.connector as c\n",
    "from mysql.connector import Error\n",
    "try:\n",
    "    conn = c.connect(host='localhost', database='sales_an', user='root',\n",
    "                         password='cbr250R0471@')\n",
    "    if conn.is_connected():\n",
    "        cursor = conn.cursor()\n",
    "        cursor.execute(\"select database();\")\n",
    "        record = cursor.fetchone()\n",
    "       \n",
    "        print(\"You're connected to database: \", record)\n",
    "        cursor.execute('DROP TABLE IF EXISTS calendar_dim;')\n",
    "        print('Creating table....')\n",
    "   \n",
    "        sql=('CREATE TABLE calendar_dim'\n",
    "             +'(\\n'\n",
    "             +'Invoice_No VARCHAR(9) NOT NULL,'\n",
    "             +'Invoice_Date VARCHAR(15)  NOT NULL,'\n",
    "             +'Invoice_time VARCHAR(9) NOT NULL,'\n",
    "             +'PRIMARY KEY (Invoice_No)'\n",
    "#              +'date_year INT NOT NULL,'\n",
    "#              +'date_month INT NOT NULL,'\n",
    "#              +'date_day INT NOT NULL'             \n",
    "             +')'\n",
    "             )\n",
    "        cursor.execute(sql)\n",
    "        print(\"Table is created....\")\n",
    "    \n",
    "        \n",
    "#         for i, row in df.iterrows():            \n",
    "#              cursor.execute(\"INSERT INTO sales.invoice(Invoice_No,Invoice_Date,Invoice_time,Cust_ID) VALUES (%s,%s,%s,%s)\", \n",
    "#                            [row['Invoice_No'],row['Invoice_Date'], row['Invoice_time'], row['Cust_ID']])\n",
    "#         print('rows executed')\n",
    "#         conn.commit()\n",
    "        \n",
    "except Error as e:\n",
    "            print(\"Error while connecting to MySQL\", e)"
   ]
  },
  {
   "cell_type": "code",
   "execution_count": null,
   "id": "c4fcc38b",
   "metadata": {},
   "outputs": [],
   "source": [
    "import mysql.connector as c\n",
    "from mysql.connector import Error\n",
    "try:\n",
    "    conn = c.connect(host='localhost', database='sales_an', user='root',\n",
    "                         password='cbr250R0471@')\n",
    "    if conn.is_connected():\n",
    "        cursor = conn.cursor()\n",
    "        cursor.execute(\"select database();\")\n",
    "        record = cursor.fetchone()\n",
    "       \n",
    "        print(\"You're connected to database: \", record)\n",
    "        cursor.execute('DROP TABLE IF EXISTS item_dim;')\n",
    "        print('Creating table....')\n",
    "   \n",
    "        sql=('CREATE TABLE item_dim'\n",
    "             +'(\\n'\n",
    "             +'Item_No VARCHAR(5) NOT NULL,'\n",
    "             +'Item_type VARCHAR(255) NOT NULL,'\n",
    "             +'Line_No VARCHAR(3) NOT NULL,'\n",
    "             +'PRIMARY KEY (Item_No)'             \n",
    "             +')'\n",
    "                             )\n",
    "        cursor.execute(sql)\n",
    "        print(\"Table is created....\")\n",
    "    \n",
    "        \n",
    "#         for i, row in df.iterrows():            \n",
    "#              cursor.execute(\"INSERT INTO sales.item(Item_no,Item_type,Discount,Item_price) VALUES (%s,%s,%s,%s)\", \n",
    "#                            [row['Item_no'],row['Item_type'], row['Discount'], row['Item_price'] ])\n",
    "#         print('rows executed')\n",
    "#         conn.commit()\n",
    "        \n",
    "except Error as e:\n",
    "            print(\"Error while connecting to MySQL\", e)\n",
    "        "
   ]
  },
  {
   "cell_type": "code",
   "execution_count": 15,
   "id": "95abd32d",
   "metadata": {},
   "outputs": [
    {
     "name": "stdout",
     "output_type": "stream",
     "text": [
      "You're connected to database:  ('sales_an',)\n",
      "Creating table....\n",
      "Table is created....\n"
     ]
    }
   ],
   "source": [
    "import mysql.connector as c\n",
    "from mysql.connector import Error\n",
    "try:\n",
    "    conn = c.connect(host='localhost', database='sales_an', user='root',\n",
    "                         password='cbr250R0471@')\n",
    "    if conn.is_connected():\n",
    "        cursor = conn.cursor()\n",
    "        cursor.execute(\"select database();\")\n",
    "        record = cursor.fetchone()\n",
    "       \n",
    "        print(\"You're connected to database: \", record)\n",
    "        cursor.execute('DROP TABLE IF EXISTS sales_fact;')\n",
    "        print('Creating table....')\n",
    "   \n",
    "        sql=('CREATE TABLE sales_fact'\n",
    "             +'(\\n'\n",
    "             +'Item_Price FLOAT NOT NULL,'\n",
    "             +'Quantity INT NOT NULL,'\n",
    "             +'Discount INT NOT NULL,'\n",
    "             +'Item_No VARCHAR(5) NOT NULL,'\n",
    "             +'Cust_ID VARCHAR(4) NOT NULL,'\n",
    "             +'Invoice_No VARCHAR(9) NOT NULL,'\n",
    "             +'PRIMARY KEY (Item_No),'\n",
    "             +'FOREIGN KEY (Item_No) REFERENCES item_dim(Item_No),'\n",
    "             +'FOREIGN KEY (Cust_ID) REFERENCES customer_dim(Cust_ID),'\n",
    "             +'FOREIGN KEY (Invoice_No) REFERENCES calendar_dim(Invoice_No)'\n",
    "             +')'\n",
    "             )\n",
    "        cursor.execute(sql)\n",
    "        print(\"Table is created....\")\n",
    "    \n",
    "        \n",
    "#         for i, row in df.iterrows():            \n",
    "#              cursor.execute(\"INSERT INTO sales.customer_dim(Cust_ID,Cust_state,Cust_address,Cust_postcode,first_name,last_name) VALUES (%s,%s,%s,%s,%s,%s)\", \n",
    "#                            [row['Cust_ID'],row['Cust_state'], row['Cust_address'], row['Cust_postcode'],row['first_name'],row['last_name']])\n",
    "#         print('rows executed')\n",
    "#         conn.commit()\n",
    "        \n",
    "except Error as e:\n",
    "            print(\"Error while connecting to MySQL\", e)"
   ]
  },
  {
   "cell_type": "markdown",
   "id": "952bef8a",
   "metadata": {},
   "source": [
    " df=pd.read_csv(\"customer sales.csv\")"
   ]
  },
  {
   "cell_type": "code",
   "execution_count": null,
   "id": "37105fd5",
   "metadata": {},
   "outputs": [],
   "source": [
    "import mysql.connector as msql\n",
    "from mysql.connector import Error\n",
    "try:\n",
    "    conn = msql.connect(host='localhost', user='root',  \n",
    "                        password='cbr250R0471@')#give ur username, password\n",
    "    if conn.is_connected():\n",
    "        cursor = conn.cursor()\n",
    "#         cursor.execute(\"CREATE DATABASE sales_an\")\n",
    "#         print(\"Database is created\")\n",
    "except Error as e:\n",
    "    print(\"Error while connecting to MySQL\", e)"
   ]
  },
  {
   "cell_type": "code",
   "execution_count": null,
   "id": "456699e0",
   "metadata": {},
   "outputs": [],
   "source": [
    "import mysql.connector as c\n",
    "from mysql.connector import Error\n",
    "try:\n",
    "    conn = msql.connect(host='localhost', database='sales_an', user='root',\n",
    "                         password='cbr250R0471@')\n",
    "    if conn.is_connected():\n",
    "        cursor = conn.cursor()\n",
    "        cursor.execute(\"select database();\")\n",
    "        record = cursor.fetchone()\n",
    "       \n",
    "        print(\"You're connected to database: \", record)\n",
    "        sql = ( \"\"\"\n",
    "                    INSERT INTO sales_an.calendar_dim (Invoice_No, Invoice_Date, \n",
    "                                            Invoice_time)\n",
    "                    SELECT Invoice_No, \n",
    "                    Invoice_Date,\n",
    "                    Invoice_time\n",
    "                    FROM sales.invoice\n",
    "                \"\"\"\n",
    "              )\n",
    "\n",
    "        cursor.execute(sql)\n",
    "        conn.commit()\n",
    "        conn.close()\n",
    "except Error as e:\n",
    "            print(\"Error while connecting to MySQL\", e)"
   ]
  },
  {
   "cell_type": "code",
   "execution_count": null,
   "id": "d5e80786",
   "metadata": {},
   "outputs": [],
   "source": [
    "try:\n",
    "    conn = msql.connect(host='localhost', database='sales_an', user='root',\n",
    "                         password='cbr250R0471@')\n",
    "    if conn.is_connected():\n",
    "        cursor = conn.cursor()\n",
    "        cursor.execute(\"select database();\")\n",
    "        record = cursor.fetchone()\n",
    "       \n",
    "        print(\"You're connected to database: \", record)\n",
    "        sql = ( \"\"\"\n",
    "                    INSERT INTO sales_an.customer_dim (Cust_ID, first_name, \n",
    "                                            last_name, Cust_state,\n",
    "                                            Cust_address,\n",
    "                                            Cust_postcode)\n",
    "                    SELECT Cust_ID, \n",
    "                    first_name,\n",
    "                    last_name,\n",
    "                    Cust_state,\n",
    "                    Cust_address,\n",
    "                    Cust_postcode\n",
    "                    FROM sales.customer\n",
    "                \"\"\"\n",
    "              )\n",
    "\n",
    "        cursor.execute(sql)\n",
    "        conn.commit()\n",
    "        conn.close()\n",
    "except Error as e:\n",
    "            print(\"Error while connecting to MySQL\", e)"
   ]
  },
  {
   "cell_type": "code",
   "execution_count": 5,
   "id": "d5a842a9",
   "metadata": {},
   "outputs": [
    {
     "name": "stdout",
     "output_type": "stream",
     "text": [
      "You're connected to database:  ('sales_an',)\n"
     ]
    }
   ],
   "source": [
    "try:\n",
    "    conn = msql.connect(host='localhost', database='sales_an', user='root',\n",
    "                         password='cbr250R0471@')\n",
    "    if conn.is_connected():\n",
    "        cursor = conn.cursor()\n",
    "        cursor.execute(\"select database();\")\n",
    "        record = cursor.fetchone()\n",
    "       \n",
    "        print(\"You're connected to database: \", record)\n",
    "        sql = ( \"\"\"\n",
    "                    INSERT INTO item_dim (Item_No, Item_type,Line_No )\n",
    "                                          \n",
    "                    SELECT item.Item_No, \n",
    "                    item.Item_type,\n",
    "                    invoiceitem.Line_No\n",
    "                    \n",
    "                    FROM sales.item, sales.invoiceitem \n",
    "                    WHERE sales.item.Item_No = sales.invoiceitem.Item_No\n",
    "                    \n",
    "                    \n",
    "                \"\"\"\n",
    "              )\n",
    "\n",
    "        cursor.execute(sql)\n",
    "        conn.commit()\n",
    "        conn.close()\n",
    "except Error as e:\n",
    "            print(\"Error while connecting to MySQL\", e)"
   ]
  },
  {
   "cell_type": "code",
   "execution_count": 16,
   "id": "532698bb",
   "metadata": {},
   "outputs": [
    {
     "name": "stdout",
     "output_type": "stream",
     "text": [
      "You're connected to database:  ('sales_an',)\n"
     ]
    }
   ],
   "source": [
    "###Loading Sales\n",
    "\n",
    "try:\n",
    "    conn = msql.connect(host='localhost', database='sales_an', user='root',\n",
    "                         password='cbr250R0471@')\n",
    "    if conn.is_connected():\n",
    "        cursor = conn.cursor()\n",
    "        cursor.execute(\"select database();\")\n",
    "        record = cursor.fetchone()\n",
    "       \n",
    "        print(\"You're connected to database: \", record)\n",
    "        sql = ( \"\"\"\n",
    "                    INSERT INTO sales_fact (Item_Price, Quantity, \n",
    "                                            Discount, Item_No,\n",
    "                                            Cust_ID,\n",
    "                                            Invoice_No)\n",
    "                    SELECT sales.item.Item_Price, \n",
    "                    sales.invoiceitem.Quantity,\n",
    "                    sales.item.Discount,\n",
    "                    sales.item.Item_No,\n",
    "                    sales.invoice.Cust_ID,\n",
    "                    sales.invoice.Invoice_No\n",
    "                    FROM sales.item, sales.invoiceitem, sales.invoice,sales.consist\n",
    "                    WHERE sales.invoiceitem.Item_No = sales.item.Item_No\n",
    "                    AND sales.consist.Line_No= sales.invoiceitem.Line_No\n",
    "                    AND sales.invoice.Invoice_No = sales.consist.Invoice_No\n",
    "                    \n",
    "                    \n",
    "                \"\"\"\n",
    "              )\n",
    "\n",
    "        cursor.execute(sql)\n",
    "        conn.commit()\n",
    "        conn.close()\n",
    "except Error as e:\n",
    "            print(\"Error while connecting to MySQL\", e)"
   ]
  },
  {
   "cell_type": "markdown",
   "id": "a40e8a9a",
   "metadata": {},
   "source": [
    "## Queries\n",
    "Query1: customers from which state received the highest average discounts"
   ]
  },
  {
   "cell_type": "markdown",
   "id": "0487690d",
   "metadata": {},
   "source": [
    "Query 2:on which dates , did DBSMART sold the most products"
   ]
  },
  {
   "cell_type": "markdown",
   "id": "27cc8019",
   "metadata": {},
   "source": [
    "Query 3: Whats the average item price sold by DBSmart in each state\n",
    "Select Cust_state,avg(Item_price)\n",
    "from customer_dim,sales_fact\n",
    "where sales_fact.Cust_ID=customer_dim.Cust_ID\n",
    "Group by Cust_state\n",
    "order by avg(Item_Price) desc; "
   ]
  }
 ],
 "metadata": {
  "kernelspec": {
   "display_name": "Python 3 (ipykernel)",
   "language": "python",
   "name": "python3"
  },
  "language_info": {
   "codemirror_mode": {
    "name": "ipython",
    "version": 3
   },
   "file_extension": ".py",
   "mimetype": "text/x-python",
   "name": "python",
   "nbconvert_exporter": "python",
   "pygments_lexer": "ipython3",
   "version": "3.9.15"
  }
 },
 "nbformat": 4,
 "nbformat_minor": 5
}
